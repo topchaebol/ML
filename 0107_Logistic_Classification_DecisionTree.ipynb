{
  "nbformat": 4,
  "nbformat_minor": 0,
  "metadata": {
    "colab": {
      "name": "0107_Logistic_Classification_DecisionTree.ipynb",
      "provenance": [],
      "include_colab_link": true
    },
    "kernelspec": {
      "name": "python3",
      "display_name": "Python 3"
    }
  },
  "cells": [
    {
      "cell_type": "markdown",
      "metadata": {
        "id": "view-in-github",
        "colab_type": "text"
      },
      "source": [
        "<a href=\"https://colab.research.google.com/github/topchaebol/ML/blob/master/0107_Logistic_Classification_DecisionTree.ipynb\" target=\"_parent\"><img src=\"https://colab.research.google.com/assets/colab-badge.svg\" alt=\"Open In Colab\"/></a>"
      ]
    },
    {
      "cell_type": "code",
      "metadata": {
        "id": "glrAoeNfGhuC",
        "colab_type": "code",
        "colab": {}
      },
      "source": [
        "from sklearn.datasets import load_breast_cancer\n",
        "from sklearn.linear_model import LogisticRegression\n",
        "from sklearn.tree import DecisionTreeClassifier"
      ],
      "execution_count": 0,
      "outputs": []
    },
    {
      "cell_type": "code",
      "metadata": {
        "id": "EvXzaXx9HDCc",
        "colab_type": "code",
        "colab": {}
      },
      "source": [
        "breast_cancer = load_breast_cancer()\n",
        "X = breast_cancer.data\n",
        "y = breast_cancer.target"
      ],
      "execution_count": 0,
      "outputs": []
    },
    {
      "cell_type": "code",
      "metadata": {
        "id": "zwHKooERHM8s",
        "colab_type": "code",
        "colab": {
          "base_uri": "https://localhost:8080/",
          "height": 167
        },
        "outputId": "44aa86c3-ef26-43e2-a027-1c3ec7b1d774"
      },
      "source": [
        "clf1 = LogisticRegression()\n",
        "clf1.fit(X,y)"
      ],
      "execution_count": 4,
      "outputs": [
        {
          "output_type": "stream",
          "text": [
            "/usr/local/lib/python3.6/dist-packages/sklearn/linear_model/logistic.py:432: FutureWarning: Default solver will be changed to 'lbfgs' in 0.22. Specify a solver to silence this warning.\n",
            "  FutureWarning)\n"
          ],
          "name": "stderr"
        },
        {
          "output_type": "execute_result",
          "data": {
            "text/plain": [
              "LogisticRegression(C=1.0, class_weight=None, dual=False, fit_intercept=True,\n",
              "                   intercept_scaling=1, l1_ratio=None, max_iter=100,\n",
              "                   multi_class='warn', n_jobs=None, penalty='l2',\n",
              "                   random_state=None, solver='warn', tol=0.0001, verbose=0,\n",
              "                   warm_start=False)"
            ]
          },
          "metadata": {
            "tags": []
          },
          "execution_count": 4
        }
      ]
    },
    {
      "cell_type": "code",
      "metadata": {
        "id": "HGr_wkR8HSAk",
        "colab_type": "code",
        "colab": {
          "base_uri": "https://localhost:8080/",
          "height": 574
        },
        "outputId": "cf9d1798-1170-4822-cf29-1afbbbe57484"
      },
      "source": [
        "for f, w in zip(breast_cancer.feature_names, clf1.coef_[0]):\n",
        "  print(\"{0:<23}:{1:6.2f}\".format(f, w))"
      ],
      "execution_count": 5,
      "outputs": [
        {
          "output_type": "stream",
          "text": [
            "mean radius            :  2.12\n",
            "mean texture           :  0.11\n",
            "mean perimeter         : -0.07\n",
            "mean area              : -0.00\n",
            "mean smoothness        : -0.15\n",
            "mean compactness       : -0.41\n",
            "mean concavity         : -0.65\n",
            "mean concave points    : -0.34\n",
            "mean symmetry          : -0.23\n",
            "mean fractal dimension : -0.03\n",
            "radius error           : -0.02\n",
            "texture error          :  1.28\n",
            "perimeter error        :  0.02\n",
            "area error             : -0.10\n",
            "smoothness error       : -0.02\n",
            "compactness error      :  0.00\n",
            "concavity error        : -0.05\n",
            "concave points error   : -0.04\n",
            "symmetry error         : -0.04\n",
            "fractal dimension error:  0.01\n",
            "worst radius           :  1.27\n",
            "worst texture          : -0.34\n",
            "worst perimeter        : -0.12\n",
            "worst area             : -0.02\n",
            "worst smoothness       : -0.29\n",
            "worst compactness      : -1.16\n",
            "worst concavity        : -1.60\n",
            "worst concave points   : -0.66\n",
            "worst symmetry         : -0.70\n",
            "worst fractal dimension: -0.12\n"
          ],
          "name": "stdout"
        }
      ]
    },
    {
      "cell_type": "code",
      "metadata": {
        "id": "CEgl360BHzbz",
        "colab_type": "code",
        "colab": {
          "base_uri": "https://localhost:8080/",
          "height": 128
        },
        "outputId": "a71f2d1a-cabb-41e4-ad80-27dfdeed190f"
      },
      "source": [
        "clf2 = DecisionTreeClassifier(max_depth=2)\n",
        "clf2.fit(X,y)"
      ],
      "execution_count": 7,
      "outputs": [
        {
          "output_type": "execute_result",
          "data": {
            "text/plain": [
              "DecisionTreeClassifier(class_weight=None, criterion='gini', max_depth=2,\n",
              "                       max_features=None, max_leaf_nodes=None,\n",
              "                       min_impurity_decrease=0.0, min_impurity_split=None,\n",
              "                       min_samples_leaf=1, min_samples_split=2,\n",
              "                       min_weight_fraction_leaf=0.0, presort=False,\n",
              "                       random_state=None, splitter='best')"
            ]
          },
          "metadata": {
            "tags": []
          },
          "execution_count": 7
        }
      ]
    },
    {
      "cell_type": "code",
      "metadata": {
        "id": "zlPVw3aqH8pC",
        "colab_type": "code",
        "colab": {}
      },
      "source": [
        ""
      ],
      "execution_count": 0,
      "outputs": []
    }
  ]
}