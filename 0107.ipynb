{
  "nbformat": 4,
  "nbformat_minor": 0,
  "metadata": {
    "colab": {
      "name": "0107",
      "provenance": [],
      "include_colab_link": true
    },
    "kernelspec": {
      "name": "python3",
      "display_name": "Python 3"
    }
  },
  "cells": [
    {
      "cell_type": "markdown",
      "metadata": {
        "id": "view-in-github",
        "colab_type": "text"
      },
      "source": [
        "<a href=\"https://colab.research.google.com/github/topchaebol/ML/blob/master/0107.ipynb\" target=\"_parent\"><img src=\"https://colab.research.google.com/assets/colab-badge.svg\" alt=\"Open In Colab\"/></a>"
      ]
    },
    {
      "cell_type": "code",
      "metadata": {
        "id": "gPLEo0Y78hf8",
        "colab_type": "code",
        "colab": {}
      },
      "source": [
        "from sklearn.datasets import load_boston"
      ],
      "execution_count": 0,
      "outputs": []
    },
    {
      "cell_type": "code",
      "metadata": {
        "id": "mdpYyjPC8oKF",
        "colab_type": "code",
        "colab": {}
      },
      "source": [
        "from sklearn.linear_model import LinearRegression, Ridge, Lasso"
      ],
      "execution_count": 0,
      "outputs": []
    },
    {
      "cell_type": "code",
      "metadata": {
        "id": "AECMZU408yk3",
        "colab_type": "code",
        "colab": {}
      },
      "source": [
        "boston = load_boston()"
      ],
      "execution_count": 0,
      "outputs": []
    },
    {
      "cell_type": "code",
      "metadata": {
        "id": "7zHKNBrB81GE",
        "colab_type": "code",
        "colab": {}
      },
      "source": [
        "X = boston.data"
      ],
      "execution_count": 0,
      "outputs": []
    },
    {
      "cell_type": "code",
      "metadata": {
        "id": "GitDMTtN82q_",
        "colab_type": "code",
        "colab": {}
      },
      "source": [
        "y = boston.target"
      ],
      "execution_count": 0,
      "outputs": []
    },
    {
      "cell_type": "code",
      "metadata": {
        "id": "_UEdNuf286X9",
        "colab_type": "code",
        "colab": {}
      },
      "source": [
        "lr1 = LinearRegression()"
      ],
      "execution_count": 0,
      "outputs": []
    },
    {
      "cell_type": "code",
      "metadata": {
        "id": "DUGjWydl-kAs",
        "colab_type": "code",
        "outputId": "42e2470d-3eed-4fa1-d41d-bc2d47828711",
        "colab": {
          "base_uri": "https://localhost:8080/",
          "height": 36
        }
      },
      "source": [
        "lr1.fit(X,y)"
      ],
      "execution_count": 0,
      "outputs": [
        {
          "output_type": "execute_result",
          "data": {
            "text/plain": [
              "LinearRegression(copy_X=True, fit_intercept=True, n_jobs=None, normalize=False)"
            ]
          },
          "metadata": {
            "tags": []
          },
          "execution_count": 7
        }
      ]
    },
    {
      "cell_type": "code",
      "metadata": {
        "id": "c_l_ytdT-pJI",
        "colab_type": "code",
        "outputId": "fd7d8586-da87-4116-fe69-da0237812382",
        "colab": {
          "base_uri": "https://localhost:8080/",
          "height": 36
        }
      },
      "source": [
        "print(\"Linear Regression\")"
      ],
      "execution_count": 0,
      "outputs": [
        {
          "output_type": "stream",
          "text": [
            "Linear Regression\n"
          ],
          "name": "stdout"
        }
      ]
    },
    {
      "cell_type": "code",
      "metadata": {
        "id": "ZxQt_vkT-tHL",
        "colab_type": "code",
        "outputId": "0d6a1c85-94ab-4fba-cad8-98f4b74ce11d",
        "colab": {
          "base_uri": "https://localhost:8080/",
          "height": 277
        }
      },
      "source": [
        "for f, w in zip(boston.feature_names, lr1.coef_):\n",
        "  print(\"{0:7s}:{1:6.2f}\".format(f,w))\n",
        "print(\"coef = {0:4.2f}\".format(sum(lr1.coef_**2)))"
      ],
      "execution_count": 0,
      "outputs": [
        {
          "output_type": "stream",
          "text": [
            "CRIM   : -0.11\n",
            "ZN     :  0.05\n",
            "INDUS  :  0.02\n",
            "CHAS   :  2.69\n",
            "NOX    :-17.77\n",
            "RM     :  3.81\n",
            "AGE    :  0.00\n",
            "DIS    : -1.48\n",
            "RAD    :  0.31\n",
            "TAX    : -0.01\n",
            "PTRATIO: -0.95\n",
            "B      :  0.01\n",
            "LSTAT  : -0.52\n",
            "coef = 340.85\n"
          ],
          "name": "stdout"
        }
      ]
    },
    {
      "cell_type": "code",
      "metadata": {
        "id": "5Ls0RBAa_IqF",
        "colab_type": "code",
        "outputId": "fa2b60c2-fa19-42ff-c1b5-5710782ded87",
        "colab": {
          "base_uri": "https://localhost:8080/",
          "height": 296
        }
      },
      "source": [
        "lr2 = Ridge(alpha = 10.0)\n",
        "lr2.fit(X,y)\n",
        "print(\"Ridge\")\n",
        "for f, w in zip(boston.feature_names, lr2.coef_):\n",
        "  print(\"{0:7s}:{1:6.2f}\".format(f, w))\n",
        "print(\"coef = {0:4.2f}\".format(sum(lr2.coef_**2)))"
      ],
      "execution_count": 0,
      "outputs": [
        {
          "output_type": "stream",
          "text": [
            "Ridge\n",
            "CRIM   : -0.10\n",
            "ZN     :  0.05\n",
            "INDUS  : -0.04\n",
            "CHAS   :  1.95\n",
            "NOX    : -2.37\n",
            "RM     :  3.70\n",
            "AGE    : -0.01\n",
            "DIS    : -1.25\n",
            "RAD    :  0.28\n",
            "TAX    : -0.01\n",
            "PTRATIO: -0.80\n",
            "B      :  0.01\n",
            "LSTAT  : -0.56\n",
            "coef = 25.74\n"
          ],
          "name": "stdout"
        }
      ]
    },
    {
      "cell_type": "code",
      "metadata": {
        "id": "82NdTvN7_nPS",
        "colab_type": "code",
        "outputId": "7c29388f-bdbf-4e84-9fd3-b268af638633",
        "colab": {
          "base_uri": "https://localhost:8080/",
          "height": 296
        }
      },
      "source": [
        "lr3 = Lasso(alpha = 2.0)\n",
        "lr3.fit(X,y)\n",
        "print(\"Lasso\")\n",
        "for f, w in zip(boston.feature_names, lr3.coef_):\n",
        "  print(\"{0:7}:{1:6.2f}\".format(f, w))\n",
        "print(\"coef={0:4.2f}\".format(sum(lr3.coef_**2)))"
      ],
      "execution_count": 0,
      "outputs": [
        {
          "output_type": "stream",
          "text": [
            "Lasso\n",
            "CRIM   : -0.02\n",
            "ZN     :  0.04\n",
            "INDUS  : -0.00\n",
            "CHAS   :  0.00\n",
            "NOX    : -0.00\n",
            "RM     :  0.00\n",
            "AGE    :  0.04\n",
            "DIS    : -0.07\n",
            "RAD    :  0.17\n",
            "TAX    : -0.01\n",
            "PTRATIO: -0.56\n",
            "B      :  0.01\n",
            "LSTAT  : -0.82\n",
            "coef=1.02\n"
          ],
          "name": "stdout"
        }
      ]
    },
    {
      "cell_type": "code",
      "metadata": {
        "id": "AuvVQri8AOny",
        "colab_type": "code",
        "colab": {}
      },
      "source": [
        ""
      ],
      "execution_count": 0,
      "outputs": []
    }
  ]
}